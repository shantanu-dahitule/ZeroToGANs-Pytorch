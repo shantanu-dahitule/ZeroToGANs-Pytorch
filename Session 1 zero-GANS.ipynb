{
 "cells": [
  {
   "cell_type": "code",
   "execution_count": 246,
   "id": "4eaf8f89",
   "metadata": {},
   "outputs": [
    {
     "name": "stdout",
     "output_type": "stream",
     "text": [
      "1.11.0.dev20210928\n",
      "True\n"
     ]
    }
   ],
   "source": [
    "import torch\n",
    "print(torch.__version__)\n",
    "print(torch.cuda.is_available())"
   ]
  },
  {
   "cell_type": "code",
   "execution_count": 247,
   "id": "5cdcbf83",
   "metadata": {},
   "outputs": [
    {
     "data": {
      "text/plain": [
       "tensor([[[ 1.,  2.,  2.],\n",
       "         [ 1.,  2., 33.]]])"
      ]
     },
     "execution_count": 247,
     "metadata": {},
     "output_type": "execute_result"
    }
   ],
   "source": [
    "# Matrix should be in same dimension to take it as tensor\n",
    "t1 = torch.tensor([[[1.,2,2.],[1,2,33.]]])\n",
    "t1"
   ]
  },
  {
   "cell_type": "code",
   "execution_count": 248,
   "id": "2669e7d0",
   "metadata": {},
   "outputs": [
    {
     "name": "stdout",
     "output_type": "stream",
     "text": [
      "3\n"
     ]
    },
    {
     "data": {
      "text/plain": [
       "torch.Size([1, 2, 3])"
      ]
     },
     "execution_count": 248,
     "metadata": {},
     "output_type": "execute_result"
    }
   ],
   "source": [
    "print(t1.dim())\n",
    "t1.shape\n"
   ]
  },
  {
   "cell_type": "code",
   "execution_count": 249,
   "id": "ad771bec",
   "metadata": {},
   "outputs": [
    {
     "data": {
      "text/plain": [
       "(tensor(3.), tensor(4., requires_grad=True), tensor(5., requires_grad=True))"
      ]
     },
     "execution_count": 249,
     "metadata": {},
     "output_type": "execute_result"
    }
   ],
   "source": [
    "# ARITHMATIC OPERATIONS ON TENSOR\n",
    "x=torch.tensor(3.)\n",
    "w=torch.tensor(4. , requires_grad=True)\n",
    "b=torch.tensor(5. , requires_grad=True)\n",
    "x,w,b"
   ]
  },
  {
   "cell_type": "code",
   "execution_count": 250,
   "id": "177a1431",
   "metadata": {},
   "outputs": [
    {
     "data": {
      "text/plain": [
       "tensor(17., grad_fn=<AddBackward0>)"
      ]
     },
     "execution_count": 250,
     "metadata": {},
     "output_type": "execute_result"
    }
   ],
   "source": [
    "y = w*x+b\n",
    "y"
   ]
  },
  {
   "cell_type": "code",
   "execution_count": 251,
   "id": "8eb1d79c",
   "metadata": {},
   "outputs": [
    {
     "name": "stdout",
     "output_type": "stream",
     "text": [
      "dy/dy =  None\n"
     ]
    }
   ],
   "source": [
    "# Compute derivative \n",
    "print('dy/dy = ',y.backward())"
   ]
  },
  {
   "cell_type": "code",
   "execution_count": 252,
   "id": "f11fbbe0",
   "metadata": {},
   "outputs": [],
   "source": [
    "import numpy as np\n"
   ]
  },
  {
   "cell_type": "code",
   "execution_count": 253,
   "id": "079a1eb2",
   "metadata": {},
   "outputs": [
    {
     "data": {
      "text/plain": [
       "array(17., dtype=float32)"
      ]
     },
     "execution_count": 253,
     "metadata": {},
     "output_type": "execute_result"
    }
   ],
   "source": [
    "z = y.detach().numpy()\n",
    "z"
   ]
  },
  {
   "cell_type": "markdown",
   "id": "4dfa1567",
   "metadata": {},
   "source": [
    "#  LINEAR REGRESSION PREDICT Apple Yield"
   ]
  },
  {
   "cell_type": "code",
   "execution_count": 254,
   "id": "204fd4ed",
   "metadata": {},
   "outputs": [],
   "source": [
    "# INPUT (temp, raifall, humidity)\n",
    "inputs = np.array([[73,67,43],[91,88,64],[87,134,58],[102,43,37],[69,96,70]], dtype='float32')"
   ]
  },
  {
   "cell_type": "code",
   "execution_count": 255,
   "id": "3c87a283",
   "metadata": {},
   "outputs": [],
   "source": [
    "# Targets (apple, oranges)\n",
    "targets = np.array([[56,70],[81,101],[119,133],[22,37],[103,119]],dtype='float32')"
   ]
  },
  {
   "cell_type": "code",
   "execution_count": 256,
   "id": "799777e2",
   "metadata": {},
   "outputs": [
    {
     "name": "stdout",
     "output_type": "stream",
     "text": [
      "tensor([[ 73.,  67.,  43.],\n",
      "        [ 91.,  88.,  64.],\n",
      "        [ 87., 134.,  58.],\n",
      "        [102.,  43.,  37.],\n",
      "        [ 69.,  96.,  70.]])\n",
      "tensor([[ 56.,  70.],\n",
      "        [ 81., 101.],\n",
      "        [119., 133.],\n",
      "        [ 22.,  37.],\n",
      "        [103., 119.]])\n"
     ]
    }
   ],
   "source": [
    "inputs=torch.from_numpy(inputs)\n",
    "targets=torch.from_numpy(targets)\n",
    "print(inputs)\n",
    "print(targets)"
   ]
  },
  {
   "cell_type": "code",
   "execution_count": 257,
   "id": "aa575c1f",
   "metadata": {},
   "outputs": [
    {
     "name": "stdout",
     "output_type": "stream",
     "text": [
      "tensor([[ 1.4217, -0.6249, -1.0052],\n",
      "        [-1.9838,  0.4469,  0.2054]], requires_grad=True)\n",
      "tensor([0.1172, 1.3314], requires_grad=True)\n"
     ]
    }
   ],
   "source": [
    "# linear regression equation is y = w^T * x + b \n",
    "w=torch.randn(2,3,requires_grad=True)\n",
    "b=torch.randn(2, requires_grad=True)\n",
    "print(w)\n",
    "print(b)"
   ]
  },
  {
   "cell_type": "code",
   "execution_count": 258,
   "id": "1f03dc53",
   "metadata": {},
   "outputs": [],
   "source": [
    "def model(x):\n",
    "    return x @ w.t()+b # @ represent matrix multiplication in Pytorch\n"
   ]
  },
  {
   "cell_type": "code",
   "execution_count": 259,
   "id": "78135ea1",
   "metadata": {},
   "outputs": [
    {
     "name": "stdout",
     "output_type": "stream",
     "text": [
      "tensor([[  18.8016, -104.7179],\n",
      "        [  10.1576, -126.7299],\n",
      "        [ -18.2453,  -99.4711],\n",
      "        [  81.0596, -174.2065],\n",
      "        [ -32.1497,  -78.2780]], grad_fn=<AddBackward0>)\n"
     ]
    }
   ],
   "source": [
    "# Generate prediction\n",
    "preds = model(inputs)\n",
    "print(preds)"
   ]
  },
  {
   "cell_type": "code",
   "execution_count": 260,
   "id": "7d4ef1d1",
   "metadata": {},
   "outputs": [
    {
     "name": "stdout",
     "output_type": "stream",
     "text": [
      "tensor([[ 56.,  70.],\n",
      "        [ 81., 101.],\n",
      "        [119., 133.],\n",
      "        [ 22.,  37.],\n",
      "        [103., 119.]])\n"
     ]
    }
   ],
   "source": [
    "print(targets)"
   ]
  },
  {
   "cell_type": "code",
   "execution_count": 261,
   "id": "08fc7116",
   "metadata": {},
   "outputs": [],
   "source": [
    "# RMSE\n",
    "def rmse(t1, t2):\n",
    "    diff = t1-t2\n",
    "    return torch.sum(diff*diff)/diff.numel()"
   ]
  },
  {
   "cell_type": "code",
   "execution_count": 262,
   "id": "bf225d3d",
   "metadata": {},
   "outputs": [],
   "source": [
    "from math import sqrt"
   ]
  },
  {
   "cell_type": "code",
   "execution_count": 263,
   "id": "a52d14bb",
   "metadata": {},
   "outputs": [
    {
     "name": "stdout",
     "output_type": "stream",
     "text": [
      "163.38572913316204\n"
     ]
    }
   ],
   "source": [
    "loss = rmse(preds, targets)\n",
    "print(sqrt(loss))"
   ]
  },
  {
   "cell_type": "code",
   "execution_count": 264,
   "id": "394c9090",
   "metadata": {},
   "outputs": [],
   "source": [
    "# Compute Gradient \n",
    "loss.backward()"
   ]
  },
  {
   "cell_type": "code",
   "execution_count": 265,
   "id": "335dc55a",
   "metadata": {},
   "outputs": [
    {
     "name": "stdout",
     "output_type": "stream",
     "text": [
      "tensor([[ 1.4217, -0.6249, -1.0052],\n",
      "        [-1.9838,  0.4469,  0.2054]], requires_grad=True)\n",
      "With GRADE:    tensor([[ -4880.7461,  -7510.4199,  -4273.7891],\n",
      "        [-17771.6113, -18183.6055, -11439.0010]])\n",
      "tensor([ -64.2752, -208.6807])\n"
     ]
    }
   ],
   "source": [
    "print(w)\n",
    "print(\"With GRADE:   \",w.grad)\n",
    "print(b.grad)"
   ]
  },
  {
   "cell_type": "code",
   "execution_count": 266,
   "id": "8cfec358",
   "metadata": {},
   "outputs": [
    {
     "name": "stdout",
     "output_type": "stream",
     "text": [
      "163.38572913316204\n",
      "405.2975373105541\n",
      "321.2851148123735\n",
      "254.91845356652783\n",
      "202.5180933274852\n",
      "161.17438876493375\n",
      "128.58647078425474\n",
      "102.93457323556308\n",
      "82.77878441024306\n",
      "66.97864704632552\n",
      "54.62919659938036\n",
      "45.01008187843169\n",
      "37.54532742337087\n",
      "31.77193624281006\n",
      "27.316207110403113\n",
      "23.876395778898978\n",
      "21.210402272252672\n",
      "19.12664508600747\n",
      "17.47652757595974\n",
      "16.147409407282836\n",
      "15.055823654909563\n",
      "14.141064716056954\n",
      "13.359641695985607\n",
      "12.680622510581228\n",
      "12.082052088367092\n",
      "11.548253205554916\n",
      "11.067928727891394\n",
      "10.632755097199938\n",
      "10.236474021391594\n",
      "9.874235872087379\n",
      "9.542174035677007\n",
      "9.237105170911315\n",
      "8.956342987621346\n",
      "8.69755883004253\n",
      "8.458709057009397\n",
      "8.2379580380528\n",
      "8.033659695951252\n",
      "7.844316074568539\n",
      "7.668556754390783\n",
      "7.5051313012904295\n",
      "7.3528964609020635\n",
      "7.21081529639815\n",
      "7.077918582289537\n",
      "6.953360358551749\n",
      "6.836333693875939\n",
      "6.7261161700427206\n",
      "6.622067936259897\n",
      "6.523594508308888\n",
      "6.430145803551553\n",
      "6.3412669165694115\n",
      "6.256499306268317\n",
      "6.175461588916382\n",
      "6.097809207422528\n",
      "6.023215521100258\n",
      "5.951401668828148\n",
      "5.882108891978271\n",
      "5.8151196554899895\n",
      "5.750223901784547\n",
      "5.687245792953973\n",
      "5.626012244804176\n",
      "5.566385690751506\n",
      "5.508235833963854\n",
      "5.451445312639952\n",
      "5.395908055714769\n",
      "5.341539784718309\n",
      "5.288249957780627\n",
      "5.2359638592526965\n",
      "5.184623564221953\n",
      "5.1341645711357815\n",
      "5.084532090886236\n",
      "5.035682573769384\n",
      "4.987576308658584\n",
      "4.940166284642843\n",
      "4.893424795752915\n",
      "4.847321405765355\n",
      "4.801822459429832\n",
      "4.756912421917701\n",
      "4.71256522783625\n",
      "4.6687593309342414\n",
      "4.625473204452957\n",
      "4.58269348302133\n",
      "4.540410746004335\n",
      "4.498598728291786\n",
      "4.45725356006432\n",
      "4.4163630879032505\n",
      "4.375910419014454\n",
      "4.335894390269926\n",
      "4.296302563076881\n",
      "4.257125715109673\n",
      "4.218352348518896\n",
      "4.179982511857972\n",
      "4.142005776556491\n",
      "4.10441725429012\n",
      "4.067211060486888\n",
      "4.030378143895196\n",
      "3.993914982547498\n",
      "3.957818543271023\n",
      "3.922078526295804\n",
      "3.886696421496793\n",
      "3.8516667411888927\n"
     ]
    }
   ],
   "source": [
    "# Adjust the weights and reset gradients \n",
    "for i in range(100):\n",
    "    preds = model(inputs)\n",
    "    loss = rmse(preds, targets)\n",
    "    loss.backward()\n",
    "    print(sqrt(loss))\n",
    "    with torch.no_grad():    \n",
    "        w-=w.grad*1e-4\n",
    "        b-=b.grad*1e-4\n",
    "        w.grad.zero_()\n",
    "        b.grad.zero_()"
   ]
  },
  {
   "cell_type": "code",
   "execution_count": 267,
   "id": "a1757e05",
   "metadata": {},
   "outputs": [
    {
     "data": {
      "text/plain": [
       "tensor([[ 57.6589,  70.5696],\n",
       "        [ 78.4612, 100.1350],\n",
       "        [126.4186, 133.7610],\n",
       "        [ 23.4324,  37.1473],\n",
       "        [ 94.0541, 118.3956]], grad_fn=<AddBackward0>)"
      ]
     },
     "execution_count": 267,
     "metadata": {},
     "output_type": "execute_result"
    }
   ],
   "source": [
    "preds"
   ]
  },
  {
   "cell_type": "code",
   "execution_count": 268,
   "id": "cc9310a1",
   "metadata": {},
   "outputs": [
    {
     "data": {
      "text/plain": [
       "tensor([[ 56.,  70.],\n",
       "        [ 81., 101.],\n",
       "        [119., 133.],\n",
       "        [ 22.,  37.],\n",
       "        [103., 119.]])"
      ]
     },
     "execution_count": 268,
     "metadata": {},
     "output_type": "execute_result"
    }
   ],
   "source": [
    "targets"
   ]
  }
 ],
 "metadata": {
  "kernelspec": {
   "display_name": "Python 3 (ipykernel)",
   "language": "python",
   "name": "python3"
  },
  "language_info": {
   "codemirror_mode": {
    "name": "ipython",
    "version": 3
   },
   "file_extension": ".py",
   "mimetype": "text/x-python",
   "name": "python",
   "nbconvert_exporter": "python",
   "pygments_lexer": "ipython3",
   "version": "3.9.7"
  }
 },
 "nbformat": 4,
 "nbformat_minor": 5
}
