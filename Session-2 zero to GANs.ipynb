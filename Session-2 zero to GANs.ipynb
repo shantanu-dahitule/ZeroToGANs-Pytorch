{
 "cells": [
  {
   "cell_type": "code",
   "execution_count": 1,
   "id": "5ae0bb46",
   "metadata": {},
   "outputs": [
    {
     "name": "stdout",
     "output_type": "stream",
     "text": [
      "1.11.0.dev20210928\n",
      "True\n"
     ]
    }
   ],
   "source": [
    "import torch\n",
    "print(torch.__version__)\n",
    "print(torch.cuda.is_available())"
   ]
  },
  {
   "cell_type": "code",
   "execution_count": 2,
   "id": "91dbc2fe",
   "metadata": {},
   "outputs": [],
   "source": [
    "import torchvision\n",
    "from torchvision.datasets import MNIST"
   ]
  },
  {
   "cell_type": "code",
   "execution_count": 3,
   "id": "47669f15",
   "metadata": {},
   "outputs": [],
   "source": [
    "dataset = MNIST(root='data/', download=True)#Download Dataset"
   ]
  },
  {
   "cell_type": "code",
   "execution_count": 4,
   "id": "a09a68ca",
   "metadata": {},
   "outputs": [
    {
     "data": {
      "text/plain": [
       "Dataset MNIST\n",
       "    Number of datapoints: 60000\n",
       "    Root location: data/\n",
       "    Split: Train"
      ]
     },
     "execution_count": 4,
     "metadata": {},
     "output_type": "execute_result"
    }
   ],
   "source": [
    "dataset #know the dataset"
   ]
  },
  {
   "cell_type": "code",
   "execution_count": 5,
   "id": "fe4e005f",
   "metadata": {},
   "outputs": [
    {
     "data": {
      "text/plain": [
       "10000"
      ]
     },
     "execution_count": 5,
     "metadata": {},
     "output_type": "execute_result"
    }
   ],
   "source": [
    "test_data = MNIST(root='data/',train=False)\n",
    "len(test_data)"
   ]
  },
  {
   "cell_type": "code",
   "execution_count": 6,
   "id": "1d22672d",
   "metadata": {},
   "outputs": [
    {
     "data": {
      "text/plain": [
       "(<PIL.Image.Image image mode=L size=28x28 at 0x1996147A5B0>, 0)"
      ]
     },
     "execution_count": 6,
     "metadata": {},
     "output_type": "execute_result"
    }
   ],
   "source": [
    "dataset[1]"
   ]
  },
  {
   "cell_type": "code",
   "execution_count": 7,
   "id": "c328bcd0",
   "metadata": {},
   "outputs": [
    {
     "name": "stdout",
     "output_type": "stream",
     "text": [
      "Looking in indexes: https://pypi.org/simple, https://pypi.ngc.nvidia.com\n",
      "Requirement already satisfied: matplotlib in e:\\anaconda_installed_here\\envs\\deeplearning\\lib\\site-packages (3.5.1)\n",
      "Requirement already satisfied: pillow>=6.2.0 in e:\\anaconda_installed_here\\envs\\deeplearning\\lib\\site-packages (from matplotlib) (8.3.2)\n",
      "Requirement already satisfied: kiwisolver>=1.0.1 in e:\\anaconda_installed_here\\envs\\deeplearning\\lib\\site-packages (from matplotlib) (1.3.2)\n",
      "Requirement already satisfied: python-dateutil>=2.7 in e:\\anaconda_installed_here\\envs\\deeplearning\\lib\\site-packages (from matplotlib) (2.8.2)\n",
      "Requirement already satisfied: numpy>=1.17 in e:\\anaconda_installed_here\\envs\\deeplearning\\lib\\site-packages (from matplotlib) (1.21.2)\n",
      "Requirement already satisfied: packaging>=20.0 in e:\\anaconda_installed_here\\envs\\deeplearning\\lib\\site-packages (from matplotlib) (21.0)\n",
      "Requirement already satisfied: pyparsing>=2.2.1 in e:\\anaconda_installed_here\\envs\\deeplearning\\lib\\site-packages (from matplotlib) (2.4.7)\n",
      "Requirement already satisfied: cycler>=0.10 in e:\\anaconda_installed_here\\envs\\deeplearning\\lib\\site-packages (from matplotlib) (0.11.0)\n",
      "Requirement already satisfied: fonttools>=4.22.0 in e:\\anaconda_installed_here\\envs\\deeplearning\\lib\\site-packages (from matplotlib) (4.28.5)\n",
      "Requirement already satisfied: six>=1.5 in e:\\anaconda_installed_here\\envs\\deeplearning\\lib\\site-packages (from python-dateutil>=2.7->matplotlib) (1.16.0)\n"
     ]
    }
   ],
   "source": [
    "!pip install matplotlib"
   ]
  },
  {
   "cell_type": "code",
   "execution_count": 8,
   "id": "d4cde358",
   "metadata": {},
   "outputs": [],
   "source": [
    "import matplotlib.pyplot as plt\n",
    "%matplotlib inline"
   ]
  },
  {
   "cell_type": "code",
   "execution_count": 9,
   "id": "c4257bcc",
   "metadata": {},
   "outputs": [
    {
     "name": "stdout",
     "output_type": "stream",
     "text": [
      "Label:  0\n"
     ]
    },
    {
     "data": {
      "image/png": "[encoded data removed]",
      "text/plain": [
       "<Figure size 432x288 with 1 Axes>"
      ]
     },
     "metadata": {
      "needs_background": "light"
     },
     "output_type": "display_data"
    }
   ],
   "source": [
    "image, label = dataset[1]\n",
    "plt.imshow(image, cmap='gray')\n",
    "print('Label: ',label)"
   ]
  },
  {
   "cell_type": "code",
   "execution_count": 10,
   "id": "0f90a5e7",
   "metadata": {},
   "outputs": [],
   "source": [
    "import torchvision.transforms as transforms #Convert Image into tensors"
   ]
  },
  {
   "cell_type": "code",
   "execution_count": 11,
   "id": "02afa59d",
   "metadata": {},
   "outputs": [],
   "source": [
    "dataset = MNIST(root='data/',train=True,transform=transforms.ToTensor())"
   ]
  },
  {
   "cell_type": "code",
   "execution_count": 12,
   "id": "14f1701b",
   "metadata": {},
   "outputs": [
    {
     "name": "stdout",
     "output_type": "stream",
     "text": [
      "torch.Size([1, 28, 28]) 0\n"
     ]
    }
   ],
   "source": [
    "img_tensor,label=dataset[1]    \n",
    "print(img_tensor.shape,label)   #Its gray scale so its 28 X 28 image with 1 colour"
   ]
  },
  {
   "cell_type": "code",
   "execution_count": 13,
   "id": "73b4de16",
   "metadata": {},
   "outputs": [
    {
     "data": {
      "text/plain": [
       "(50000, 10000)"
      ]
     },
     "execution_count": 13,
     "metadata": {},
     "output_type": "execute_result"
    }
   ],
   "source": [
    "# We must have training and validation dataset use to evaluate model during training\n",
    "from torch.utils.data import random_split\n",
    "train_ds, val_ds = random_split(dataset, [50000,10000])\n",
    "len(train_ds), len(val_ds)"
   ]
  },
  {
   "cell_type": "code",
   "execution_count": 14,
   "id": "572f8f5f",
   "metadata": {},
   "outputs": [],
   "source": [
    "from torch.utils.data import DataLoader\n",
    "batch_size = 128\n",
    "train_loader = DataLoader(train_ds, batch_size, shuffle=True)\n",
    "val_loader = DataLoader(val_ds, batch_size)"
   ]
  },
  {
   "cell_type": "code",
   "execution_count": 15,
   "id": "45f7f41b",
   "metadata": {},
   "outputs": [],
   "source": [
    "# Now train Model\n",
    "import torch.nn as nn\n",
    "input_size = 28*28\n",
    "num_classes = 10\n",
    "\n",
    "# Logistic regression model\n",
    "model = nn.Linear(input_size, num_classes)"
   ]
  },
  {
   "cell_type": "code",
   "execution_count": 16,
   "id": "e1b6e661",
   "metadata": {},
   "outputs": [],
   "source": [
    "class MnistModel(nn.Module):\n",
    "    def __init__(self):\n",
    "        super().__init__()\n",
    "        self.linear = nn.Linear(input_size, num_classes)\n",
    "    def forward(self, xb):#xb = batch of inputs and self points to model\n",
    "        xb = xb.reshape(-1, 28*28)\n",
    "        out = self.linear(xb)#now xb is flattened manually to give input as a model\n",
    "        return out\n",
    "model = MnistModel()"
   ]
  },
  {
   "cell_type": "code",
   "execution_count": 17,
   "id": "58043066",
   "metadata": {},
   "outputs": [
    {
     "name": "stdout",
     "output_type": "stream",
     "text": [
      "torch.Size([10, 784]) torch.Size([10])\n"
     ]
    },
    {
     "data": {
      "text/plain": [
       "[Parameter containing:\n",
       " tensor([[-0.0128,  0.0214, -0.0201,  ...,  0.0308,  0.0285, -0.0075],\n",
       "         [ 0.0324,  0.0089,  0.0177,  ...,  0.0212, -0.0196, -0.0154],\n",
       "         [ 0.0066,  0.0212, -0.0166,  ..., -0.0123, -0.0257,  0.0242],\n",
       "         ...,\n",
       "         [ 0.0307, -0.0013, -0.0036,  ..., -0.0340,  0.0062,  0.0219],\n",
       "         [-0.0089, -0.0113,  0.0183,  ...,  0.0318,  0.0136, -0.0103],\n",
       "         [ 0.0290, -0.0344,  0.0347,  ..., -0.0051,  0.0072, -0.0139]],\n",
       "        requires_grad=True),\n",
       " Parameter containing:\n",
       " tensor([-0.0355, -0.0002,  0.0213,  0.0309, -0.0079, -0.0049, -0.0158,  0.0248,\n",
       "          0.0108, -0.0197], requires_grad=True)]"
      ]
     },
     "execution_count": 17,
     "metadata": {},
     "output_type": "execute_result"
    }
   ],
   "source": [
    "print(model.linear.weight.shape, model.linear.bias.shape)\n",
    "list(model.parameters())"
   ]
  },
  {
   "cell_type": "code",
   "execution_count": 18,
   "id": "69fbb840",
   "metadata": {},
   "outputs": [
    {
     "name": "stdout",
     "output_type": "stream",
     "text": [
      "torch.Size([128, 10])\n",
      "tensor([[ 0.1371,  0.5002, -0.2090, -0.3524, -0.1311,  0.0690, -0.3368, -0.3099,\n",
      "         -0.2028,  0.2207],\n",
      "        [-0.1280,  0.1001,  0.0265, -0.1696, -0.1177,  0.1541,  0.0008, -0.2950,\n",
      "         -0.0982,  0.0629]])\n"
     ]
    }
   ],
   "source": [
    "for images, labels in train_loader:\n",
    "    outputs = model(images)\n",
    "    break\n",
    "print(outputs.shape)\n",
    "print(outputs[:2].data)"
   ]
  },
  {
   "cell_type": "code",
   "execution_count": 19,
   "id": "46adfcce",
   "metadata": {},
   "outputs": [
    {
     "data": {
      "text/plain": [
       "tensor([ 0.1371,  0.5002, -0.2090, -0.3524, -0.1311,  0.0690, -0.3368, -0.3099,\n",
       "        -0.2028,  0.2207], grad_fn=<SelectBackward0>)"
      ]
     },
     "execution_count": 19,
     "metadata": {},
     "output_type": "execute_result"
    }
   ],
   "source": [
    "outputs[0]"
   ]
  },
  {
   "cell_type": "code",
   "execution_count": 20,
   "id": "9bfdb986",
   "metadata": {},
   "outputs": [
    {
     "data": {
      "text/plain": [
       "tensor([1.1470, 1.6490, 0.8114, 0.7030, 0.8771, 1.0715, 0.7141, 0.7335, 0.8165,\n",
       "        1.2469], grad_fn=<ExpBackward0>)"
      ]
     },
     "execution_count": 20,
     "metadata": {},
     "output_type": "execute_result"
    }
   ],
   "source": [
    "exps = torch.exp(outputs[0])\n",
    "exps"
   ]
  },
  {
   "cell_type": "code",
   "execution_count": 21,
   "id": "28824ff9",
   "metadata": {},
   "outputs": [
    {
     "name": "stdout",
     "output_type": "stream",
     "text": [
      "tensor([0.1174, 0.1688, 0.0831, 0.0720, 0.0898, 0.1097, 0.0731, 0.0751, 0.0836,\n",
      "        0.1276], grad_fn=<DivBackward0>)\n",
      "tensor(1.0000, grad_fn=<SumBackward0>)\n"
     ]
    }
   ],
   "source": [
    "# Above cell and this Cell explain hows softmax work\n",
    "probs = exps/torch.sum(exps)\n",
    "print(probs)\n",
    "print(probs.sum())"
   ]
  },
  {
   "cell_type": "code",
   "execution_count": 22,
   "id": "982cac25",
   "metadata": {},
   "outputs": [
    {
     "name": "stdout",
     "output_type": "stream",
     "text": [
      "Sample probabilities\n",
      " tensor([[0.1174, 0.1688, 0.0831, 0.0720, 0.0898, 0.1097, 0.0731, 0.0751, 0.0836,\n",
      "         0.1276],\n",
      "        [0.0914, 0.1148, 0.1067, 0.0877, 0.0923, 0.1212, 0.1039, 0.0773, 0.0942,\n",
      "         0.1106]])\n",
      "sum:  1.0\n"
     ]
    }
   ],
   "source": [
    "# Now probability of output should lie in 0 to 1 scale so we are using Softmax function\n",
    "import torch.nn.functional as F\n",
    "prob = F.softmax(outputs, dim=1)#aplly softmax for each ouput row\n",
    "print(\"Sample probabilities\\n\",prob[:2].data)\n",
    "\n",
    "#check sum of probabilities is 1\n",
    "print(\"sum: \", torch.sum(prob[0]).item())"
   ]
  },
  {
   "cell_type": "code",
   "execution_count": 23,
   "id": "3ce938b1",
   "metadata": {},
   "outputs": [
    {
     "name": "stdout",
     "output_type": "stream",
     "text": [
      "tensor([1, 5, 2, 1, 0, 1, 1, 1, 1, 2, 1, 1, 1, 1, 2, 1, 1, 2, 1, 8, 1, 9, 1, 0,\n",
      "        1, 1, 1, 1, 1, 2, 6, 9, 0, 2, 6, 1, 1, 1, 1, 1, 2, 1, 2, 1, 2, 1, 1, 9,\n",
      "        1, 9, 9, 1, 8, 1, 1, 9, 1, 0, 2, 1, 1, 1, 9, 1, 1, 1, 2, 2, 1, 1, 1, 5,\n",
      "        1, 9, 2, 1, 1, 1, 1, 9, 1, 0, 9, 9, 1, 1, 1, 9, 1, 1, 1, 1, 2, 1, 1, 0,\n",
      "        1, 1, 0, 1, 1, 0, 1, 0, 1, 1, 1, 7, 1, 5, 1, 1, 2, 1, 1, 2, 1, 1, 1, 1,\n",
      "        1, 1, 1, 1, 0, 2, 1, 2])\n",
      "tensor([0.1688, 0.1212, 0.1319, 0.1303, 0.1106, 0.1630, 0.1446, 0.1359, 0.1590,\n",
      "        0.1256, 0.1491, 0.1531, 0.1488, 0.1296, 0.1394, 0.1317, 0.1728, 0.1172,\n",
      "        0.1231, 0.1285, 0.1480, 0.1203, 0.1227, 0.1292, 0.1584, 0.1437, 0.1535,\n",
      "        0.1838, 0.1509, 0.1477, 0.1261, 0.1519, 0.1095, 0.1320, 0.1196, 0.1352,\n",
      "        0.1316, 0.1460, 0.1415, 0.1230, 0.1482, 0.1222, 0.1307, 0.1287, 0.1411,\n",
      "        0.1220, 0.1466, 0.1269, 0.1422, 0.1389, 0.1412, 0.1743, 0.1186, 0.1383,\n",
      "        0.1141, 0.1218, 0.1437, 0.1405, 0.1233, 0.1264, 0.1312, 0.1261, 0.1179,\n",
      "        0.1738, 0.1653, 0.1242, 0.1147, 0.1276, 0.1511, 0.1652, 0.1320, 0.1368,\n",
      "        0.1640, 0.1232, 0.1284, 0.1568, 0.1249, 0.1749, 0.1402, 0.1483, 0.1343,\n",
      "        0.1182, 0.1293, 0.1343, 0.1504, 0.1291, 0.1285, 0.1394, 0.1769, 0.1239,\n",
      "        0.1495, 0.1684, 0.1304, 0.1470, 0.1157, 0.1149, 0.1468, 0.1348, 0.1241,\n",
      "        0.1418, 0.1672, 0.1202, 0.1200, 0.1193, 0.1373, 0.1291, 0.1518, 0.1118,\n",
      "        0.1703, 0.1302, 0.1610, 0.1500, 0.1354, 0.1307, 0.1531, 0.1360, 0.1500,\n",
      "        0.1231, 0.1288, 0.1292, 0.1419, 0.1789, 0.1356, 0.1350, 0.1339, 0.1189,\n",
      "        0.1328, 0.1116], grad_fn=<MaxBackward0>)\n"
     ]
    }
   ],
   "source": [
    "max_probs, preds = torch.max(prob, dim=1)\n",
    "print(preds)\n",
    "print(max_probs)"
   ]
  },
  {
   "cell_type": "code",
   "execution_count": 24,
   "id": "960c6835",
   "metadata": {},
   "outputs": [],
   "source": [
    "def accuracy(outputs, labels):\n",
    "    _, preds = torch.max(outputs, dim=1)\n",
    "    return torch.tensor(torch.sum(preds==labels).item()/len(preds))"
   ]
  },
  {
   "cell_type": "code",
   "execution_count": 25,
   "id": "3dd465c3",
   "metadata": {},
   "outputs": [
    {
     "data": {
      "text/plain": [
       "tensor(0.0703)"
      ]
     },
     "execution_count": 25,
     "metadata": {},
     "output_type": "execute_result"
    }
   ],
   "source": [
    "accuracy(outputs, labels)"
   ]
  },
  {
   "cell_type": "code",
   "execution_count": 26,
   "id": "695d6a20",
   "metadata": {},
   "outputs": [],
   "source": [
    "loss_fn = F.cross_entropy"
   ]
  },
  {
   "cell_type": "code",
   "execution_count": 27,
   "id": "768e6cf8",
   "metadata": {},
   "outputs": [
    {
     "name": "stdout",
     "output_type": "stream",
     "text": [
      "tensor(2.3473, grad_fn=<NllLossBackward0>)\n"
     ]
    }
   ],
   "source": [
    "loss = loss_fn(outputs, labels)\n",
    "print(loss)"
   ]
  },
  {
   "cell_type": "code",
   "execution_count": 28,
   "id": "96610f33",
   "metadata": {},
   "outputs": [
    {
     "data": {
      "text/plain": [
       "'\\ngeneric prediction\\ncalculate loss\\ncompte gradiet\\nupdate weight\\nreset the gradient \\nrepeate the steps and valuate at every epoch \\n'"
      ]
     },
     "execution_count": 28,
     "metadata": {},
     "output_type": "execute_result"
    }
   ],
   "source": [
    "# Training The model\n",
    "'''\n",
    "generic prediction\n",
    "calculate loss\n",
    "compte gradiet\n",
    "update weight\n",
    "reset the gradient \n",
    "repeate the steps and valuate at every epoch \n",
    "'''"
   ]
  },
  {
   "cell_type": "code",
   "execution_count": 37,
   "id": "0c99804b",
   "metadata": {},
   "outputs": [],
   "source": [
    "class MnistModel(nn.Module):\n",
    "    def __init__(self):\n",
    "        super().__init__()\n",
    "        self.linear = nn.Linear(input_size, num_classes)\n",
    "        \n",
    "    def forward(self, xb):\n",
    "        xb = xb.reshape(-1, 784)\n",
    "        out = self.linear(xb)\n",
    "        return out\n",
    "    \n",
    "    def training_step(self, batch):\n",
    "        images, labels = batch \n",
    "        out = self(images)                  # Generate predictions\n",
    "        loss = F.cross_entropy(out, labels) # Calculate loss\n",
    "        return loss\n",
    "    \n",
    "    def validation_step(self, batch):\n",
    "        images, labels = batch \n",
    "        out = self(images)                    # Generate predictions\n",
    "        loss = F.cross_entropy(out, labels)   # Calculate loss\n",
    "        acc = accuracy(out, labels)           # Calculate accuracy\n",
    "        return {'val_loss': loss, 'val_acc': acc}\n",
    "        \n",
    "    def validation_epoch_end(self, outputs):\n",
    "        batch_losses = [x['val_loss'] for x in outputs]\n",
    "        epoch_loss = torch.stack(batch_losses).mean()   # Combine losses\n",
    "        batch_accs = [x['val_acc'] for x in outputs]\n",
    "        epoch_acc = torch.stack(batch_accs).mean()      # Combine accuracies\n",
    "        return {'val_loss': epoch_loss.item(), 'val_acc': epoch_acc.item()}\n",
    "    \n",
    "    def epoch_end(self, epoch, result):\n",
    "        print(\"Epoch [{}], val_loss: {:.4f}, val_acc: {:.4f}\".format(epoch, result['val_loss'], result['val_acc']))\n",
    "    \n",
    "model = MnistModel()"
   ]
  },
  {
   "cell_type": "code",
   "execution_count": 38,
   "id": "bcea1be3",
   "metadata": {},
   "outputs": [],
   "source": [
    "def fit(epochs, lr, model, train_loader, val_loader, opt_func=torch.optim.SGD):\n",
    "    optimizer = opt_func(model.parameters(), lr)\n",
    "    history = [] # for recording epoch-wise results\n",
    "    \n",
    "    for epoch in range(epochs):\n",
    "        \n",
    "        # Training Phase \n",
    "        for batch in train_loader:\n",
    "            loss = model.training_step(batch)\n",
    "            loss.backward()\n",
    "            optimizer.step()\n",
    "            optimizer.zero_grad()\n",
    "        \n",
    "        # Validation phase\n",
    "        result = evaluate(model, val_loader)\n",
    "        model.epoch_end(epoch, result)\n",
    "        history.append(result)\n",
    "\n",
    "    return history"
   ]
  },
  {
   "cell_type": "code",
   "execution_count": 39,
   "id": "087a334c",
   "metadata": {},
   "outputs": [
    {
     "data": {
      "text/plain": [
       "{'val_loss': 2.341200351715088, 'val_acc': 0.06655459105968475}"
      ]
     },
     "execution_count": 39,
     "metadata": {},
     "output_type": "execute_result"
    }
   ],
   "source": [
    "result0 = evaluate(model, val_loader)\n",
    "result0"
   ]
  },
  {
   "cell_type": "code",
   "execution_count": 40,
   "id": "0e0df923",
   "metadata": {},
   "outputs": [
    {
     "name": "stdout",
     "output_type": "stream",
     "text": [
      "Epoch [0], val_loss: 1.9648, val_acc: 0.6247\n",
      "Epoch [1], val_loss: 1.6910, val_acc: 0.7330\n",
      "Epoch [2], val_loss: 1.4866, val_acc: 0.7659\n",
      "Epoch [3], val_loss: 1.3322, val_acc: 0.7862\n",
      "Epoch [4], val_loss: 1.2135, val_acc: 0.7976\n"
     ]
    }
   ],
   "source": [
    "history1 = fit(5, 0.001, model, train_loader, val_loader)"
   ]
  },
  {
   "cell_type": "code",
   "execution_count": 41,
   "id": "70a9f43f",
   "metadata": {},
   "outputs": [
    {
     "name": "stdout",
     "output_type": "stream",
     "text": [
      "Epoch [0], val_loss: 1.2032, val_acc: 0.7987\n",
      "Epoch [1], val_loss: 1.1932, val_acc: 0.7993\n",
      "Epoch [2], val_loss: 1.1833, val_acc: 0.8004\n",
      "Epoch [3], val_loss: 1.1737, val_acc: 0.8010\n",
      "Epoch [4], val_loss: 1.1644, val_acc: 0.8015\n",
      "Epoch [5], val_loss: 1.1552, val_acc: 0.8019\n",
      "Epoch [6], val_loss: 1.1462, val_acc: 0.8024\n",
      "Epoch [7], val_loss: 1.1375, val_acc: 0.8033\n",
      "Epoch [8], val_loss: 1.1289, val_acc: 0.8039\n",
      "Epoch [9], val_loss: 1.1205, val_acc: 0.8052\n"
     ]
    }
   ],
   "source": [
    "history2 = fit(10, 0.0001, model, train_loader, val_loader)"
   ]
  },
  {
   "cell_type": "code",
   "execution_count": 42,
   "id": "7ccb04da",
   "metadata": {},
   "outputs": [
    {
     "name": "stdout",
     "output_type": "stream",
     "text": [
      "Epoch [0], val_loss: 0.7306, val_acc: 0.8432\n",
      "Epoch [1], val_loss: 0.6080, val_acc: 0.8567\n",
      "Epoch [2], val_loss: 0.5457, val_acc: 0.8649\n",
      "Epoch [3], val_loss: 0.5070, val_acc: 0.8699\n",
      "Epoch [4], val_loss: 0.4804, val_acc: 0.8745\n",
      "Epoch [5], val_loss: 0.4604, val_acc: 0.8777\n",
      "Epoch [6], val_loss: 0.4451, val_acc: 0.8804\n",
      "Epoch [7], val_loss: 0.4322, val_acc: 0.8821\n",
      "Epoch [8], val_loss: 0.4220, val_acc: 0.8851\n",
      "Epoch [9], val_loss: 0.4129, val_acc: 0.8860\n"
     ]
    }
   ],
   "source": [
    "history3 = fit(10, 0.01, model, train_loader, val_loader)"
   ]
  },
  {
   "cell_type": "code",
   "execution_count": 44,
   "id": "cab59da7",
   "metadata": {},
   "outputs": [
    {
     "data": {
      "image/png": "[encoded data removed]",
      "text/plain": [
       "<Figure size 432x288 with 1 Axes>"
      ]
     },
     "metadata": {
      "needs_background": "light"
     },
     "output_type": "display_data"
    }
   ],
   "source": [
    "history = [result0] + history1 + history2 + history3 \n",
    "accuracies = [result['val_acc'] for result in history]\n",
    "plt.plot(accuracies, '-x')\n",
    "plt.xlabel('epoch')\n",
    "plt.ylabel('accuracy')\n",
    "plt.title('Accuracy vs. No. of epochs');"
   ]
  },
  {
   "cell_type": "code",
   "execution_count": 45,
   "id": "a78f815b",
   "metadata": {},
   "outputs": [],
   "source": [
    "test_dataset = MNIST(root='data/', \n",
    "                     train=False,\n",
    "                     transform=transforms.ToTensor())"
   ]
  },
  {
   "cell_type": "code",
   "execution_count": 46,
   "id": "ccbf6caa",
   "metadata": {},
   "outputs": [
    {
     "name": "stdout",
     "output_type": "stream",
     "text": [
      "Shape: torch.Size([1, 28, 28])\n",
      "Label: 7\n"
     ]
    },
    {
     "data": {
      "image/png": "[encoded data removed]",
      "text/plain": [
       "<Figure size 432x288 with 1 Axes>"
      ]
     },
     "metadata": {
      "needs_background": "light"
     },
     "output_type": "display_data"
    }
   ],
   "source": [
    "img, label = test_dataset[0]\n",
    "plt.imshow(img[0], cmap='gray')\n",
    "print('Shape:', img.shape)\n",
    "print('Label:', label)"
   ]
  },
  {
   "cell_type": "code",
   "execution_count": 48,
   "id": "d0fa4f7f",
   "metadata": {},
   "outputs": [],
   "source": [
    "def predict_image(img, model):\n",
    "    xb = img.unsqueeze(0)\n",
    "    yb = model(xb)\n",
    "    _, preds = torch.max(yb, dim=1)\n",
    "    return preds[0].item()"
   ]
  },
  {
   "cell_type": "code",
   "execution_count": 50,
   "id": "ca9deb9f",
   "metadata": {},
   "outputs": [
    {
     "name": "stdout",
     "output_type": "stream",
     "text": [
      "Label: 0 , Predicted: 0\n"
     ]
    },
    {
     "data": {
      "image/png": "[encoded data removed]",
      "text/plain": [
       "<Figure size 432x288 with 1 Axes>"
      ]
     },
     "metadata": {
      "needs_background": "light"
     },
     "output_type": "display_data"
    }
   ],
   "source": [
    "img, label = test_dataset[3]\n",
    "plt.imshow(img[0], cmap='gray')\n",
    "print('Label:', label, ', Predicted:', predict_image(img, model))"
   ]
  },
  {
   "cell_type": "code",
   "execution_count": 51,
   "id": "c04a4ccd",
   "metadata": {},
   "outputs": [
    {
     "name": "stdout",
     "output_type": "stream",
     "text": [
      "Label: 5 , Predicted: 5\n"
     ]
    },
    {
     "data": {
      "image/png": "[encoded data removed]",
      "text/plain": [
       "<Figure size 432x288 with 1 Axes>"
      ]
     },
     "metadata": {
      "needs_background": "light"
     },
     "output_type": "display_data"
    }
   ],
   "source": [
    "img, label = test_dataset[102]\n",
    "plt.imshow(img[0], cmap='gray')\n",
    "print('Label:', label, ', Predicted:', predict_image(img, model))"
   ]
  },
  {
   "cell_type": "code",
   "execution_count": 52,
   "id": "6143b3fb",
   "metadata": {},
   "outputs": [
    {
     "name": "stdout",
     "output_type": "stream",
     "text": [
      "Label: 5 , Predicted: 5\n"
     ]
    },
    {
     "data": {
      "image/png": "[encoded data removed]",
      "text/plain": [
       "<Figure size 432x288 with 1 Axes>"
      ]
     },
     "metadata": {
      "needs_background": "light"
     },
     "output_type": "display_data"
    }
   ],
   "source": [
    "img, label = test_dataset[1235]\n",
    "plt.imshow(img[0], cmap='gray')\n",
    "print('Label:', label, ', Predicted:', predict_image(img, model))"
   ]
  },
  {
   "cell_type": "code",
   "execution_count": 53,
   "id": "1057dec3",
   "metadata": {},
   "outputs": [
    {
     "name": "stdout",
     "output_type": "stream",
     "text": [
      "Label: 4 , Predicted: 4\n"
     ]
    },
    {
     "data": {
      "image/png": "[encoded data removed]",
      "text/plain": [
       "<Figure size 432x288 with 1 Axes>"
      ]
     },
     "metadata": {
      "needs_background": "light"
     },
     "output_type": "display_data"
    }
   ],
   "source": [
    "img, label = test_dataset[8616]\n",
    "plt.imshow(img[0], cmap='gray')\n",
    "print('Label:', label, ', Predicted:', predict_image(img, model))"
   ]
  },
  {
   "cell_type": "code",
   "execution_count": 54,
   "id": "a5f080dd",
   "metadata": {},
   "outputs": [],
   "source": [
    "torch.save(model.state_dict(), 'mnist-logistic.pth')"
   ]
  },
  {
   "cell_type": "code",
   "execution_count": 55,
   "id": "bae3675e",
   "metadata": {},
   "outputs": [
    {
     "data": {
      "text/plain": [
       "OrderedDict([('linear.weight',\n",
       "              tensor([[-0.0340,  0.0216,  0.0083,  ..., -0.0257, -0.0166,  0.0353],\n",
       "                      [-0.0216, -0.0033,  0.0092,  ..., -0.0215, -0.0337,  0.0261],\n",
       "                      [-0.0014,  0.0348, -0.0065,  ...,  0.0260, -0.0298, -0.0298],\n",
       "                      ...,\n",
       "                      [ 0.0148,  0.0227, -0.0311,  ...,  0.0259,  0.0207, -0.0169],\n",
       "                      [ 0.0085,  0.0232,  0.0262,  ..., -0.0107, -0.0024,  0.0212],\n",
       "                      [-0.0320,  0.0344, -0.0280,  ..., -0.0209,  0.0310, -0.0058]])),\n",
       "             ('linear.bias',\n",
       "              tensor([-0.0705,  0.2173, -0.0156, -0.0513,  0.0728,  0.2295, -0.0178,  0.1634,\n",
       "                      -0.2844, -0.0748]))])"
      ]
     },
     "execution_count": 55,
     "metadata": {},
     "output_type": "execute_result"
    }
   ],
   "source": [
    "model.state_dict()"
   ]
  }
 ],
 "metadata": {
  "kernelspec": {
   "display_name": "Python 3 (ipykernel)",
   "language": "python",
   "name": "python3"
  },
  "language_info": {
   "codemirror_mode": {
    "name": "ipython",
    "version": 3
   },
   "file_extension": ".py",
   "mimetype": "text/x-python",
   "name": "python",
   "nbconvert_exporter": "python",
   "pygments_lexer": "ipython3",
   "version": "3.9.7"
  }
 },
 "nbformat": 4,
 "nbformat_minor": 5
}
